{
 "cells": [
  {
   "cell_type": "code",
   "execution_count": 2,
   "metadata": {},
   "outputs": [],
   "source": [
    "import pandas as pd\n",
    "\n"
   ]
  },
  {
   "cell_type": "code",
   "execution_count": 3,
   "metadata": {},
   "outputs": [],
   "source": [
    "df = pd.read_json('data/datalists/datalist_resized64_all.json')\n",
    "\n",
    "data = df[\"data\"]\n",
    "\n",
    "source_name_list = map(lambda x: x[\"sname\"], data)\n",
    "survey_list = map(lambda x: x[\"survey\"], data)\n",
    "label_list = map(lambda x: x[\"label\"], data)\n",
    "telescope_list = map(lambda x: x[\"telescope\"], data)\n",
    "project_list = map(lambda x: x[\"project\"], data)\n",
    "\n",
    "metadata = pd.DataFrame()\n",
    "metadata[\"source_name\"] = list(source_name_list)\n",
    "metadata[\"survey\"] = list(survey_list)\n",
    "metadata[\"label\"] = list(label_list)\n",
    "metadata[\"telescope\"] = list(telescope_list)\n",
    "metadata[\"project\"] = list(project_list)\n",
    "\n",
    "#print(metadata.to_string())\n",
    "\n",
    "\n",
    "\n",
    "#print(list(survey_list))\n",
    "#print(data.to_string()) "
   ]
  },
  {
   "cell_type": "code",
   "execution_count": 4,
   "metadata": {},
   "outputs": [
    {
     "data": {
      "text/html": [
       "<div>\n",
       "<style scoped>\n",
       "    .dataframe tbody tr th:only-of-type {\n",
       "        vertical-align: middle;\n",
       "    }\n",
       "\n",
       "    .dataframe tbody tr th {\n",
       "        vertical-align: top;\n",
       "    }\n",
       "\n",
       "    .dataframe thead th {\n",
       "        text-align: right;\n",
       "    }\n",
       "</style>\n",
       "<table border=\"1\" class=\"dataframe\">\n",
       "  <thead>\n",
       "    <tr style=\"text-align: right;\">\n",
       "      <th></th>\n",
       "      <th>source_name</th>\n",
       "      <th>survey</th>\n",
       "      <th>label</th>\n",
       "      <th>telescope</th>\n",
       "      <th>project</th>\n",
       "    </tr>\n",
       "  </thead>\n",
       "  <tbody>\n",
       "    <tr>\n",
       "      <th>count</th>\n",
       "      <td>16219</td>\n",
       "      <td>16219</td>\n",
       "      <td>16219</td>\n",
       "      <td>16219</td>\n",
       "      <td>16219</td>\n",
       "    </tr>\n",
       "    <tr>\n",
       "      <th>unique</th>\n",
       "      <td>11567</td>\n",
       "      <td>5</td>\n",
       "      <td>5</td>\n",
       "      <td>5</td>\n",
       "      <td>8</td>\n",
       "    </tr>\n",
       "    <tr>\n",
       "      <th>top</th>\n",
       "      <td>galaxy0002_obj1</td>\n",
       "      <td>emu</td>\n",
       "      <td>COMPACT</td>\n",
       "      <td>askap</td>\n",
       "      <td>radio-galaxy-zoo-dr1</td>\n",
       "    </tr>\n",
       "    <tr>\n",
       "      <th>freq</th>\n",
       "      <td>13</td>\n",
       "      <td>5695</td>\n",
       "      <td>6428</td>\n",
       "      <td>5695</td>\n",
       "      <td>5481</td>\n",
       "    </tr>\n",
       "  </tbody>\n",
       "</table>\n",
       "</div>"
      ],
      "text/plain": [
       "            source_name survey    label telescope               project\n",
       "count             16219  16219    16219     16219                 16219\n",
       "unique            11567      5        5         5                     8\n",
       "top     galaxy0002_obj1    emu  COMPACT     askap  radio-galaxy-zoo-dr1\n",
       "freq                 13   5695     6428      5695                  5481"
      ]
     },
     "execution_count": 4,
     "metadata": {},
     "output_type": "execute_result"
    }
   ],
   "source": [
    "metadata.describe()\n"
   ]
  },
  {
   "cell_type": "code",
   "execution_count": 5,
   "metadata": {},
   "outputs": [
    {
     "name": "stdout",
     "output_type": "stream",
     "text": [
      "Label: POINT-LIKE, Count: 4436\n",
      "Label: COMPACT, Count: 6428\n",
      "Label: EXTENDED, Count: 3361\n",
      "Label: EXTENDED-MULTISLAND, Count: 1654\n",
      "Label: DIFFUSE, Count: 340\n"
     ]
    }
   ],
   "source": [
    "for label in metadata[\"label\"].unique():\n",
    "    numerosity = metadata[metadata[\"label\"] == label][\"label\"].count()\n",
    "    print(\"Label: {}, Count: {}\".format(label, numerosity))"
   ]
  },
  {
   "cell_type": "code",
   "execution_count": 7,
   "metadata": {},
   "outputs": [
    {
     "name": "stdout",
     "output_type": "stream",
     "text": [
      "Survey: emu, Count: 5695\n",
      "Survey: mgps, Count: 4856\n",
      "Survey: first, Count: 5481\n",
      "Survey: scorpio, Count: 117\n",
      "Survey: mixed, Count: 70\n"
     ]
    }
   ],
   "source": [
    "for label in metadata[\"survey\"].unique():\n",
    "    numerosity = metadata[metadata[\"survey\"] == label][\"survey\"].count()\n",
    "    print(\"Survey: {}, Count: {}\".format(label, numerosity))"
   ]
  },
  {
   "cell_type": "code",
   "execution_count": 8,
   "metadata": {},
   "outputs": [
    {
     "name": "stdout",
     "output_type": "stream",
     "text": [
      "askap: 5695\n",
      "meerkat: 4856\n",
      "vla: 5481\n",
      "atca: 117\n",
      "mixed: 70\n"
     ]
    }
   ],
   "source": [
    "for label in metadata[\"telescope\"].unique():\n",
    "    numerosity = metadata[metadata[\"telescope\"] == label][\"telescope\"].count()\n",
    "    print(\"{}: {}\".format(label, numerosity))"
   ]
  },
  {
   "cell_type": "code",
   "execution_count": 9,
   "metadata": {},
   "outputs": [
    {
     "name": "stdout",
     "output_type": "stream",
     "text": [
      "scorpio-pilot2: 4812\n",
      "scorpio-pilot1: 505\n",
      "lband-legacy: 4856\n",
      "radio-galaxy-zoo-dr1: 5481\n",
      "scorpio-earlyscience: 337\n",
      "pilot1: 41\n",
      "scorpio-2_1GHz: 117\n",
      "dragns: 70\n"
     ]
    }
   ],
   "source": [
    "for label in metadata[\"project\"].unique():\n",
    "    numerosity = metadata[metadata[\"project\"] == label][\"project\"].count()\n",
    "    print(\"{}: {}\".format(label, numerosity))"
   ]
  },
  {
   "cell_type": "code",
   "execution_count": 12,
   "metadata": {},
   "outputs": [
    {
     "name": "stdout",
     "output_type": "stream",
     "text": [
      "emu\n",
      "['scorpio-pilot2' 'scorpio-pilot1' 'scorpio-earlyscience' 'pilot1']\n",
      "mgps\n",
      "['lband-legacy']\n",
      "first\n",
      "['radio-galaxy-zoo-dr1']\n",
      "scorpio\n",
      "['scorpio-2_1GHz']\n",
      "mixed\n",
      "['dragns']\n"
     ]
    }
   ],
   "source": [
    "for label in metadata[\"survey\"].unique():\n",
    "    project = metadata[metadata[\"survey\"] == label][\"project\"].unique()\n",
    "    print(label)\n",
    "    print(project)\n",
    "    #print(\"{}: {}\".format(label, numerosity))"
   ]
  },
  {
   "cell_type": "code",
   "execution_count": 13,
   "metadata": {},
   "outputs": [
    {
     "name": "stdout",
     "output_type": "stream",
     "text": [
      "POINT-LIKE\n",
      "['emu']\n",
      "COMPACT\n",
      "['emu' 'mgps' 'first']\n",
      "EXTENDED\n",
      "['emu' 'scorpio' 'mixed' 'mgps' 'first']\n",
      "EXTENDED-MULTISLAND\n",
      "['emu' 'scorpio' 'mixed' 'mgps' 'first']\n",
      "DIFFUSE\n",
      "['emu' 'mgps']\n"
     ]
    }
   ],
   "source": [
    "for label in metadata[\"label\"].unique():\n",
    "    survey = metadata[metadata[\"label\"] == label][\"survey\"].unique()\n",
    "    print(label)\n",
    "    print(survey)\n",
    "    #print(\"{}: {}\".format(label, numerosity))"
   ]
  },
  {
   "cell_type": "code",
   "execution_count": 20,
   "metadata": {},
   "outputs": [
    {
     "name": "stdout",
     "output_type": "stream",
     "text": [
      "POINT-LIKE\n",
      "['emu']\n",
      "emu: 4436\n",
      "COMPACT\n",
      "['emu' 'mgps' 'first']\n",
      "emu: 443\n",
      "mgps: 3704\n",
      "first: 2281\n",
      "EXTENDED\n",
      "['emu' 'scorpio' 'mixed' 'mgps' 'first']\n",
      "emu: 742\n",
      "scorpio: 110\n",
      "mixed: 58\n",
      "mgps: 720\n",
      "first: 1731\n",
      "EXTENDED-MULTISLAND\n",
      "['emu' 'scorpio' 'mixed' 'mgps' 'first']\n",
      "emu: 59\n",
      "scorpio: 7\n",
      "mixed: 12\n",
      "mgps: 107\n",
      "first: 1469\n",
      "DIFFUSE\n",
      "['emu' 'mgps']\n",
      "emu: 15\n",
      "mgps: 325\n"
     ]
    }
   ],
   "source": [
    "for label in metadata[\"label\"].unique():\n",
    "    surveys = metadata[metadata[\"label\"] == label][\"survey\"].unique()\n",
    "    print(label)\n",
    "    print(surveys)\n",
    "    for surv in surveys:\n",
    "        surv_count = metadata[(metadata[\"label\"] == label) & (metadata[\"survey\"] == surv)][\"survey\"].count()\n",
    "        print(\"{}: {}\".format(surv, surv_count)) \n",
    "    #print(\"{}: {}\".format(label, numerosity))"
   ]
  },
  {
   "cell_type": "code",
   "execution_count": 30,
   "metadata": {},
   "outputs": [],
   "source": [
    "import os\n",
    "from astropy.io import fits\n",
    "import matplotlib.pyplot as plt\n",
    "import matplotlib.image as mpimg\n",
    "import numpy as np"
   ]
  },
  {
   "cell_type": "code",
   "execution_count": null,
   "metadata": {},
   "outputs": [],
   "source": [
    "raw_path = \"/home/riggi/Data/MLData/smorph-dataset/data/point-like/askap-emu-pilot2_SB32526/resized64/imgs/S100.fits\"\n",
    "relative_path = raw_path.split()"
   ]
  },
  {
   "cell_type": "code",
   "execution_count": 23,
   "metadata": {},
   "outputs": [],
   "source": [
    "file_path = \"data/point-like/askap-emu-pilot2_SB32526/resized64/imgs/S100.fits\"\n",
    "hdul = fits.open(file_path)\n",
    "npy_image = hdul[0].data\n"
   ]
  },
  {
   "cell_type": "code",
   "execution_count": 28,
   "metadata": {},
   "outputs": [
    {
     "data": {
      "image/png": "[encoded data removed]",
      "text/plain": [
       "<Figure size 640x480 with 1 Axes>"
      ]
     },
     "metadata": {},
     "output_type": "display_data"
    }
   ],
   "source": [
    "imgplot = plt.imshow(npy_image)"
   ]
  },
  {
   "cell_type": "code",
   "execution_count": 34,
   "metadata": {},
   "outputs": [
    {
     "data": {
      "text/plain": [
       "<matplotlib.colorbar.Colorbar at 0x7f01a59ec3a0>"
      ]
     },
     "execution_count": 34,
     "metadata": {},
     "output_type": "execute_result"
    },
    {
     "data": {
      "image/png": "[encoded data removed]",
      "text/plain": [
       "<Figure size 640x480 with 4 Axes>"
      ]
     },
     "metadata": {},
     "output_type": "display_data"
    }
   ],
   "source": [
    "fig = plt.figure()\n",
    "ax = fig.add_subplot(1, 5, 1)\n",
    "imgplot = plt.imshow(npy_image)\n",
    "ax.set_title('Before')\n",
    "plt.colorbar(orientation='horizontal')\n",
    "ax = fig.add_subplot(1, 5, 2)\n",
    "imgplot = plt.imshow(npy_image)\n",
    "\n",
    "ax.set_title('After')\n",
    "plt.colorbar(orientation='horizontal')"
   ]
  },
  {
   "cell_type": "code",
   "execution_count": null,
   "metadata": {},
   "outputs": [],
   "source": [
    "for path in \n",
    "\n",
    "\n",
    "fig = plt.figure()\n",
    "ax = fig.add_subplot(1, 5, 1)\n",
    "imgplot = plt.imshow(npy_image)\n",
    "ax.set_title('Before')\n",
    "plt.colorbar(orientation='horizontal')\n",
    "ax = fig.add_subplot(1, 5, 2)\n",
    "imgplot = plt.imshow(npy_image)\n",
    "\n",
    "ax.set_title('After')\n",
    "plt.colorbar(orientation='horizontal')"
   ]
  }
 ],
 "metadata": {
  "kernelspec": {
   "display_name": "Python 3.9.12 64-bit",
   "language": "python",
   "name": "python3"
  },
  "language_info": {
   "codemirror_mode": {
    "name": "ipython",
    "version": 3
   },
   "file_extension": ".py",
   "mimetype": "text/x-python",
   "name": "python",
   "nbconvert_exporter": "python",
   "pygments_lexer": "ipython3",
   "version": "3.9.12"
  },
  "orig_nbformat": 4,
  "vscode": {
   "interpreter": {
    "hash": "949777d72b0d2535278d3dc13498b2535136f6dfe0678499012e853ee9abcab1"
   }
  }
 },
 "nbformat": 4,
 "nbformat_minor": 2
}
