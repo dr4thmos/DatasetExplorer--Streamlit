{
 "cells": [
  {
   "cell_type": "code",
   "execution_count": null,
   "metadata": {},
   "outputs": [],
   "source": [
    "import galai as gal\n",
    "\n",
    "model = gal.load_model(\"huge\")\n",
    "model.generate(\"The Transformer architecture [START_REF]\")\n",
    "# The Transformer architecture [START_REF] Attention is All you Need, Vaswani[END_REF] has been widely used in natural language processing."
   ]
  }
 ],
 "metadata": {
  "language_info": {
   "name": "python"
  },
  "orig_nbformat": 4
 },
 "nbformat": 4,
 "nbformat_minor": 2
}
